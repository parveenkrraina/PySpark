{
 "cells": [
  {
   "cell_type": "code",
   "execution_count": 0,
   "metadata": {
    "application/vnd.databricks.v1+cell": {
     "cellMetadata": {
      "byteLimit": 2048000,
      "rowLimit": 10000
     },
     "inputWidgets": {},
     "nuid": "2b960d26-0849-4e3f-b4a2-46670f11c5b3",
     "showTitle": false,
     "title": ""
    }
   },
   "outputs": [],
   "source": [
    "df1 = spark.read.format(\"csv\").option(\"header\", \"true\").load(\"dbfs:/FileStore/shared_uploads/parveen.r@vnodeites.com/data.csv\")\n"
   ]
  },
  {
   "cell_type": "code",
   "execution_count": 0,
   "metadata": {
    "application/vnd.databricks.v1+cell": {
     "cellMetadata": {
      "byteLimit": 2048000,
      "rowLimit": 10000
     },
     "inputWidgets": {},
     "nuid": "5fe4ef8e-19cd-4038-900b-1ec8b2a2367d",
     "showTitle": false,
     "title": ""
    }
   },
   "outputs": [
    {
     "output_type": "display_data",
     "data": {
      "text/html": [
       "<style scoped>\n",
       "  .table-result-container {\n",
       "    max-height: 300px;\n",
       "    overflow: auto;\n",
       "  }\n",
       "  table, th, td {\n",
       "    border: 1px solid black;\n",
       "    border-collapse: collapse;\n",
       "  }\n",
       "  th, td {\n",
       "    padding: 5px;\n",
       "  }\n",
       "  th {\n",
       "    text-align: left;\n",
       "  }\n",
       "</style><div class='table-result-container'><table class='table-result'><thead style='background-color: white'><tr><th>Duration</th><th>Pulse</th><th>Maxpulse</th><th>Calories</th></tr></thead><tbody><tr><td>60</td><td>110</td><td>130</td><td>409.1</td></tr><tr><td>60</td><td>117</td><td>145</td><td>479.0</td></tr><tr><td>60</td><td>103</td><td>135</td><td>340.0</td></tr><tr><td>45</td><td>109</td><td>175</td><td>282.4</td></tr><tr><td>45</td><td>117</td><td>148</td><td>406.0</td></tr><tr><td>60</td><td>102</td><td>127</td><td>300.5</td></tr><tr><td>60</td><td>110</td><td>136</td><td>374.0</td></tr><tr><td>45</td><td>104</td><td>134</td><td>253.3</td></tr><tr><td>30</td><td>109</td><td>133</td><td>195.1</td></tr><tr><td>60</td><td>98</td><td>124</td><td>269.0</td></tr><tr><td>60</td><td>103</td><td>147</td><td>329.3</td></tr><tr><td>60</td><td>100</td><td>120</td><td>250.7</td></tr><tr><td>60</td><td>106</td><td>128</td><td>345.3</td></tr><tr><td>60</td><td>104</td><td>132</td><td>379.3</td></tr><tr><td>60</td><td>98</td><td>123</td><td>275.0</td></tr><tr><td>60</td><td>98</td><td>120</td><td>215.2</td></tr><tr><td>60</td><td>100</td><td>120</td><td>300.0</td></tr><tr><td>45</td><td>90</td><td>112</td><td>null</td></tr><tr><td>60</td><td>103</td><td>123</td><td>323.0</td></tr><tr><td>45</td><td>97</td><td>125</td><td>243.0</td></tr><tr><td>60</td><td>108</td><td>131</td><td>364.2</td></tr><tr><td>45</td><td>100</td><td>119</td><td>282.0</td></tr><tr><td>60</td><td>130</td><td>101</td><td>300.0</td></tr><tr><td>45</td><td>105</td><td>132</td><td>246.0</td></tr><tr><td>60</td><td>102</td><td>126</td><td>334.5</td></tr><tr><td>60</td><td>100</td><td>120</td><td>250.0</td></tr><tr><td>60</td><td>92</td><td>118</td><td>241.0</td></tr><tr><td>60</td><td>103</td><td>132</td><td>null</td></tr><tr><td>60</td><td>100</td><td>132</td><td>280.0</td></tr><tr><td>60</td><td>102</td><td>129</td><td>380.3</td></tr><tr><td>60</td><td>92</td><td>115</td><td>243.0</td></tr><tr><td>45</td><td>90</td><td>112</td><td>180.1</td></tr><tr><td>60</td><td>101</td><td>124</td><td>299.0</td></tr><tr><td>60</td><td>93</td><td>113</td><td>223.0</td></tr><tr><td>60</td><td>107</td><td>136</td><td>361.0</td></tr><tr><td>60</td><td>114</td><td>140</td><td>415.0</td></tr><tr><td>60</td><td>102</td><td>127</td><td>300.5</td></tr><tr><td>60</td><td>100</td><td>120</td><td>300.1</td></tr><tr><td>60</td><td>100</td><td>120</td><td>300.0</td></tr><tr><td>45</td><td>104</td><td>129</td><td>266.0</td></tr><tr><td>45</td><td>90</td><td>112</td><td>180.1</td></tr><tr><td>60</td><td>98</td><td>126</td><td>286.0</td></tr><tr><td>60</td><td>100</td><td>122</td><td>329.4</td></tr><tr><td>60</td><td>111</td><td>138</td><td>400.0</td></tr><tr><td>60</td><td>111</td><td>131</td><td>397.0</td></tr><tr><td>60</td><td>99</td><td>119</td><td>273.0</td></tr><tr><td>60</td><td>109</td><td>153</td><td>387.6</td></tr><tr><td>45</td><td>111</td><td>136</td><td>300.0</td></tr><tr><td>45</td><td>108</td><td>129</td><td>298.0</td></tr><tr><td>60</td><td>111</td><td>139</td><td>397.6</td></tr><tr><td>60</td><td>107</td><td>136</td><td>380.2</td></tr><tr><td>80</td><td>123</td><td>146</td><td>643.1</td></tr><tr><td>60</td><td>106</td><td>130</td><td>263.0</td></tr><tr><td>60</td><td>118</td><td>151</td><td>486.0</td></tr><tr><td>30</td><td>136</td><td>175</td><td>238.0</td></tr><tr><td>60</td><td>121</td><td>146</td><td>450.7</td></tr><tr><td>60</td><td>118</td><td>121</td><td>413.0</td></tr><tr><td>45</td><td>115</td><td>144</td><td>305.0</td></tr><tr><td>20</td><td>153</td><td>172</td><td>226.4</td></tr><tr><td>45</td><td>123</td><td>152</td><td>321.0</td></tr><tr><td>210</td><td>108</td><td>160</td><td>1376.0</td></tr><tr><td>160</td><td>110</td><td>137</td><td>1034.4</td></tr><tr><td>160</td><td>109</td><td>135</td><td>853.0</td></tr><tr><td>45</td><td>118</td><td>141</td><td>341.0</td></tr><tr><td>20</td><td>110</td><td>130</td><td>131.4</td></tr><tr><td>180</td><td>90</td><td>130</td><td>800.4</td></tr><tr><td>150</td><td>105</td><td>135</td><td>873.4</td></tr><tr><td>150</td><td>107</td><td>130</td><td>816.0</td></tr><tr><td>20</td><td>106</td><td>136</td><td>110.4</td></tr><tr><td>300</td><td>108</td><td>143</td><td>1500.2</td></tr><tr><td>150</td><td>97</td><td>129</td><td>1115.0</td></tr><tr><td>60</td><td>109</td><td>153</td><td>387.6</td></tr><tr><td>90</td><td>100</td><td>127</td><td>700.0</td></tr><tr><td>150</td><td>97</td><td>127</td><td>953.2</td></tr><tr><td>45</td><td>114</td><td>146</td><td>304.0</td></tr><tr><td>90</td><td>98</td><td>125</td><td>563.2</td></tr><tr><td>45</td><td>105</td><td>134</td><td>251.0</td></tr><tr><td>45</td><td>110</td><td>141</td><td>300.0</td></tr><tr><td>120</td><td>100</td><td>130</td><td>500.4</td></tr><tr><td>270</td><td>100</td><td>131</td><td>1729.0</td></tr><tr><td>30</td><td>159</td><td>182</td><td>319.2</td></tr><tr><td>45</td><td>149</td><td>169</td><td>344.0</td></tr><tr><td>30</td><td>103</td><td>139</td><td>151.1</td></tr><tr><td>120</td><td>100</td><td>130</td><td>500.0</td></tr><tr><td>45</td><td>100</td><td>120</td><td>225.3</td></tr><tr><td>30</td><td>151</td><td>170</td><td>300.1</td></tr><tr><td>45</td><td>102</td><td>136</td><td>234.0</td></tr><tr><td>120</td><td>100</td><td>157</td><td>1000.1</td></tr><tr><td>45</td><td>129</td><td>103</td><td>242.0</td></tr><tr><td>20</td><td>83</td><td>107</td><td>50.3</td></tr><tr><td>180</td><td>101</td><td>127</td><td>600.1</td></tr><tr><td>45</td><td>107</td><td>137</td><td>null</td></tr><tr><td>30</td><td>90</td><td>107</td><td>105.3</td></tr><tr><td>15</td><td>80</td><td>100</td><td>50.5</td></tr><tr><td>20</td><td>150</td><td>171</td><td>127.4</td></tr><tr><td>20</td><td>151</td><td>168</td><td>229.4</td></tr><tr><td>30</td><td>95</td><td>128</td><td>128.2</td></tr><tr><td>25</td><td>152</td><td>168</td><td>244.2</td></tr><tr><td>30</td><td>109</td><td>131</td><td>188.2</td></tr><tr><td>90</td><td>93</td><td>124</td><td>604.1</td></tr><tr><td>20</td><td>95</td><td>112</td><td>77.7</td></tr><tr><td>90</td><td>90</td><td>110</td><td>500.0</td></tr><tr><td>90</td><td>90</td><td>100</td><td>500.0</td></tr><tr><td>90</td><td>90</td><td>100</td><td>500.4</td></tr><tr><td>30</td><td>92</td><td>108</td><td>92.7</td></tr><tr><td>30</td><td>93</td><td>128</td><td>124.0</td></tr><tr><td>180</td><td>90</td><td>120</td><td>800.3</td></tr><tr><td>30</td><td>90</td><td>120</td><td>86.2</td></tr><tr><td>90</td><td>90</td><td>120</td><td>500.3</td></tr><tr><td>210</td><td>137</td><td>184</td><td>1860.4</td></tr><tr><td>60</td><td>102</td><td>124</td><td>325.2</td></tr><tr><td>45</td><td>107</td><td>124</td><td>275.0</td></tr><tr><td>15</td><td>124</td><td>139</td><td>124.2</td></tr><tr><td>45</td><td>100</td><td>120</td><td>225.3</td></tr><tr><td>60</td><td>108</td><td>131</td><td>367.6</td></tr><tr><td>60</td><td>108</td><td>151</td><td>351.7</td></tr><tr><td>60</td><td>116</td><td>141</td><td>443.0</td></tr><tr><td>60</td><td>97</td><td>122</td><td>277.4</td></tr><tr><td>60</td><td>105</td><td>125</td><td>null</td></tr><tr><td>60</td><td>103</td><td>124</td><td>332.7</td></tr><tr><td>30</td><td>112</td><td>137</td><td>193.9</td></tr><tr><td>45</td><td>100</td><td>120</td><td>100.7</td></tr><tr><td>60</td><td>119</td><td>169</td><td>336.7</td></tr><tr><td>60</td><td>107</td><td>127</td><td>344.9</td></tr><tr><td>60</td><td>111</td><td>151</td><td>368.5</td></tr><tr><td>60</td><td>98</td><td>122</td><td>271.0</td></tr><tr><td>60</td><td>97</td><td>124</td><td>275.3</td></tr><tr><td>60</td><td>109</td><td>127</td><td>382.0</td></tr><tr><td>90</td><td>99</td><td>125</td><td>466.4</td></tr><tr><td>60</td><td>114</td><td>151</td><td>384.0</td></tr><tr><td>60</td><td>104</td><td>134</td><td>342.5</td></tr><tr><td>60</td><td>107</td><td>138</td><td>357.5</td></tr><tr><td>60</td><td>103</td><td>133</td><td>335.0</td></tr><tr><td>60</td><td>106</td><td>132</td><td>327.5</td></tr><tr><td>60</td><td>103</td><td>136</td><td>339.0</td></tr><tr><td>20</td><td>136</td><td>156</td><td>189.0</td></tr><tr><td>45</td><td>117</td><td>143</td><td>317.7</td></tr><tr><td>45</td><td>115</td><td>137</td><td>318.0</td></tr><tr><td>45</td><td>113</td><td>138</td><td>308.0</td></tr><tr><td>20</td><td>141</td><td>162</td><td>222.4</td></tr><tr><td>60</td><td>108</td><td>135</td><td>390.0</td></tr><tr><td>60</td><td>97</td><td>127</td><td>null</td></tr><tr><td>45</td><td>100</td><td>120</td><td>250.4</td></tr><tr><td>45</td><td>122</td><td>149</td><td>335.4</td></tr><tr><td>60</td><td>136</td><td>170</td><td>470.2</td></tr><tr><td>45</td><td>106</td><td>126</td><td>270.8</td></tr><tr><td>60</td><td>107</td><td>136</td><td>400.0</td></tr><tr><td>60</td><td>112</td><td>146</td><td>361.9</td></tr><tr><td>30</td><td>103</td><td>127</td><td>185.0</td></tr><tr><td>60</td><td>110</td><td>150</td><td>409.4</td></tr><tr><td>60</td><td>106</td><td>134</td><td>343.0</td></tr><tr><td>60</td><td>109</td><td>129</td><td>353.2</td></tr><tr><td>60</td><td>109</td><td>138</td><td>374.0</td></tr><tr><td>30</td><td>150</td><td>167</td><td>275.8</td></tr><tr><td>60</td><td>105</td><td>128</td><td>328.0</td></tr><tr><td>60</td><td>111</td><td>151</td><td>368.5</td></tr><tr><td>60</td><td>97</td><td>131</td><td>270.4</td></tr><tr><td>60</td><td>100</td><td>120</td><td>270.4</td></tr><tr><td>60</td><td>114</td><td>150</td><td>382.8</td></tr><tr><td>30</td><td>80</td><td>120</td><td>240.9</td></tr><tr><td>30</td><td>85</td><td>120</td><td>250.4</td></tr><tr><td>45</td><td>90</td><td>130</td><td>260.4</td></tr><tr><td>45</td><td>95</td><td>130</td><td>270.0</td></tr><tr><td>45</td><td>100</td><td>140</td><td>280.9</td></tr><tr><td>60</td><td>105</td><td>140</td><td>290.8</td></tr><tr><td>60</td><td>110</td><td>145</td><td>300.4</td></tr><tr><td>60</td><td>115</td><td>145</td><td>310.2</td></tr><tr><td>75</td><td>120</td><td>150</td><td>320.4</td></tr><tr><td>75</td><td>125</td><td>150</td><td>330.4</td></tr></tbody></table></div>"
      ]
     },
     "metadata": {
      "application/vnd.databricks.v1+output": {
       "addedWidgets": {},
       "aggData": [],
       "aggError": "",
       "aggOverflow": false,
       "aggSchema": [],
       "aggSeriesLimitReached": false,
       "aggType": "",
       "arguments": {},
       "columnCustomDisplayInfos": {},
       "data": [
        [
         "60",
         "110",
         "130",
         "409.1"
        ],
        [
         "60",
         "117",
         "145",
         "479.0"
        ],
        [
         "60",
         "103",
         "135",
         "340.0"
        ],
        [
         "45",
         "109",
         "175",
         "282.4"
        ],
        [
         "45",
         "117",
         "148",
         "406.0"
        ],
        [
         "60",
         "102",
         "127",
         "300.5"
        ],
        [
         "60",
         "110",
         "136",
         "374.0"
        ],
        [
         "45",
         "104",
         "134",
         "253.3"
        ],
        [
         "30",
         "109",
         "133",
         "195.1"
        ],
        [
         "60",
         "98",
         "124",
         "269.0"
        ],
        [
         "60",
         "103",
         "147",
         "329.3"
        ],
        [
         "60",
         "100",
         "120",
         "250.7"
        ],
        [
         "60",
         "106",
         "128",
         "345.3"
        ],
        [
         "60",
         "104",
         "132",
         "379.3"
        ],
        [
         "60",
         "98",
         "123",
         "275.0"
        ],
        [
         "60",
         "98",
         "120",
         "215.2"
        ],
        [
         "60",
         "100",
         "120",
         "300.0"
        ],
        [
         "45",
         "90",
         "112",
         null
        ],
        [
         "60",
         "103",
         "123",
         "323.0"
        ],
        [
         "45",
         "97",
         "125",
         "243.0"
        ],
        [
         "60",
         "108",
         "131",
         "364.2"
        ],
        [
         "45",
         "100",
         "119",
         "282.0"
        ],
        [
         "60",
         "130",
         "101",
         "300.0"
        ],
        [
         "45",
         "105",
         "132",
         "246.0"
        ],
        [
         "60",
         "102",
         "126",
         "334.5"
        ],
        [
         "60",
         "100",
         "120",
         "250.0"
        ],
        [
         "60",
         "92",
         "118",
         "241.0"
        ],
        [
         "60",
         "103",
         "132",
         null
        ],
        [
         "60",
         "100",
         "132",
         "280.0"
        ],
        [
         "60",
         "102",
         "129",
         "380.3"
        ],
        [
         "60",
         "92",
         "115",
         "243.0"
        ],
        [
         "45",
         "90",
         "112",
         "180.1"
        ],
        [
         "60",
         "101",
         "124",
         "299.0"
        ],
        [
         "60",
         "93",
         "113",
         "223.0"
        ],
        [
         "60",
         "107",
         "136",
         "361.0"
        ],
        [
         "60",
         "114",
         "140",
         "415.0"
        ],
        [
         "60",
         "102",
         "127",
         "300.5"
        ],
        [
         "60",
         "100",
         "120",
         "300.1"
        ],
        [
         "60",
         "100",
         "120",
         "300.0"
        ],
        [
         "45",
         "104",
         "129",
         "266.0"
        ],
        [
         "45",
         "90",
         "112",
         "180.1"
        ],
        [
         "60",
         "98",
         "126",
         "286.0"
        ],
        [
         "60",
         "100",
         "122",
         "329.4"
        ],
        [
         "60",
         "111",
         "138",
         "400.0"
        ],
        [
         "60",
         "111",
         "131",
         "397.0"
        ],
        [
         "60",
         "99",
         "119",
         "273.0"
        ],
        [
         "60",
         "109",
         "153",
         "387.6"
        ],
        [
         "45",
         "111",
         "136",
         "300.0"
        ],
        [
         "45",
         "108",
         "129",
         "298.0"
        ],
        [
         "60",
         "111",
         "139",
         "397.6"
        ],
        [
         "60",
         "107",
         "136",
         "380.2"
        ],
        [
         "80",
         "123",
         "146",
         "643.1"
        ],
        [
         "60",
         "106",
         "130",
         "263.0"
        ],
        [
         "60",
         "118",
         "151",
         "486.0"
        ],
        [
         "30",
         "136",
         "175",
         "238.0"
        ],
        [
         "60",
         "121",
         "146",
         "450.7"
        ],
        [
         "60",
         "118",
         "121",
         "413.0"
        ],
        [
         "45",
         "115",
         "144",
         "305.0"
        ],
        [
         "20",
         "153",
         "172",
         "226.4"
        ],
        [
         "45",
         "123",
         "152",
         "321.0"
        ],
        [
         "210",
         "108",
         "160",
         "1376.0"
        ],
        [
         "160",
         "110",
         "137",
         "1034.4"
        ],
        [
         "160",
         "109",
         "135",
         "853.0"
        ],
        [
         "45",
         "118",
         "141",
         "341.0"
        ],
        [
         "20",
         "110",
         "130",
         "131.4"
        ],
        [
         "180",
         "90",
         "130",
         "800.4"
        ],
        [
         "150",
         "105",
         "135",
         "873.4"
        ],
        [
         "150",
         "107",
         "130",
         "816.0"
        ],
        [
         "20",
         "106",
         "136",
         "110.4"
        ],
        [
         "300",
         "108",
         "143",
         "1500.2"
        ],
        [
         "150",
         "97",
         "129",
         "1115.0"
        ],
        [
         "60",
         "109",
         "153",
         "387.6"
        ],
        [
         "90",
         "100",
         "127",
         "700.0"
        ],
        [
         "150",
         "97",
         "127",
         "953.2"
        ],
        [
         "45",
         "114",
         "146",
         "304.0"
        ],
        [
         "90",
         "98",
         "125",
         "563.2"
        ],
        [
         "45",
         "105",
         "134",
         "251.0"
        ],
        [
         "45",
         "110",
         "141",
         "300.0"
        ],
        [
         "120",
         "100",
         "130",
         "500.4"
        ],
        [
         "270",
         "100",
         "131",
         "1729.0"
        ],
        [
         "30",
         "159",
         "182",
         "319.2"
        ],
        [
         "45",
         "149",
         "169",
         "344.0"
        ],
        [
         "30",
         "103",
         "139",
         "151.1"
        ],
        [
         "120",
         "100",
         "130",
         "500.0"
        ],
        [
         "45",
         "100",
         "120",
         "225.3"
        ],
        [
         "30",
         "151",
         "170",
         "300.1"
        ],
        [
         "45",
         "102",
         "136",
         "234.0"
        ],
        [
         "120",
         "100",
         "157",
         "1000.1"
        ],
        [
         "45",
         "129",
         "103",
         "242.0"
        ],
        [
         "20",
         "83",
         "107",
         "50.3"
        ],
        [
         "180",
         "101",
         "127",
         "600.1"
        ],
        [
         "45",
         "107",
         "137",
         null
        ],
        [
         "30",
         "90",
         "107",
         "105.3"
        ],
        [
         "15",
         "80",
         "100",
         "50.5"
        ],
        [
         "20",
         "150",
         "171",
         "127.4"
        ],
        [
         "20",
         "151",
         "168",
         "229.4"
        ],
        [
         "30",
         "95",
         "128",
         "128.2"
        ],
        [
         "25",
         "152",
         "168",
         "244.2"
        ],
        [
         "30",
         "109",
         "131",
         "188.2"
        ],
        [
         "90",
         "93",
         "124",
         "604.1"
        ],
        [
         "20",
         "95",
         "112",
         "77.7"
        ],
        [
         "90",
         "90",
         "110",
         "500.0"
        ],
        [
         "90",
         "90",
         "100",
         "500.0"
        ],
        [
         "90",
         "90",
         "100",
         "500.4"
        ],
        [
         "30",
         "92",
         "108",
         "92.7"
        ],
        [
         "30",
         "93",
         "128",
         "124.0"
        ],
        [
         "180",
         "90",
         "120",
         "800.3"
        ],
        [
         "30",
         "90",
         "120",
         "86.2"
        ],
        [
         "90",
         "90",
         "120",
         "500.3"
        ],
        [
         "210",
         "137",
         "184",
         "1860.4"
        ],
        [
         "60",
         "102",
         "124",
         "325.2"
        ],
        [
         "45",
         "107",
         "124",
         "275.0"
        ],
        [
         "15",
         "124",
         "139",
         "124.2"
        ],
        [
         "45",
         "100",
         "120",
         "225.3"
        ],
        [
         "60",
         "108",
         "131",
         "367.6"
        ],
        [
         "60",
         "108",
         "151",
         "351.7"
        ],
        [
         "60",
         "116",
         "141",
         "443.0"
        ],
        [
         "60",
         "97",
         "122",
         "277.4"
        ],
        [
         "60",
         "105",
         "125",
         null
        ],
        [
         "60",
         "103",
         "124",
         "332.7"
        ],
        [
         "30",
         "112",
         "137",
         "193.9"
        ],
        [
         "45",
         "100",
         "120",
         "100.7"
        ],
        [
         "60",
         "119",
         "169",
         "336.7"
        ],
        [
         "60",
         "107",
         "127",
         "344.9"
        ],
        [
         "60",
         "111",
         "151",
         "368.5"
        ],
        [
         "60",
         "98",
         "122",
         "271.0"
        ],
        [
         "60",
         "97",
         "124",
         "275.3"
        ],
        [
         "60",
         "109",
         "127",
         "382.0"
        ],
        [
         "90",
         "99",
         "125",
         "466.4"
        ],
        [
         "60",
         "114",
         "151",
         "384.0"
        ],
        [
         "60",
         "104",
         "134",
         "342.5"
        ],
        [
         "60",
         "107",
         "138",
         "357.5"
        ],
        [
         "60",
         "103",
         "133",
         "335.0"
        ],
        [
         "60",
         "106",
         "132",
         "327.5"
        ],
        [
         "60",
         "103",
         "136",
         "339.0"
        ],
        [
         "20",
         "136",
         "156",
         "189.0"
        ],
        [
         "45",
         "117",
         "143",
         "317.7"
        ],
        [
         "45",
         "115",
         "137",
         "318.0"
        ],
        [
         "45",
         "113",
         "138",
         "308.0"
        ],
        [
         "20",
         "141",
         "162",
         "222.4"
        ],
        [
         "60",
         "108",
         "135",
         "390.0"
        ],
        [
         "60",
         "97",
         "127",
         null
        ],
        [
         "45",
         "100",
         "120",
         "250.4"
        ],
        [
         "45",
         "122",
         "149",
         "335.4"
        ],
        [
         "60",
         "136",
         "170",
         "470.2"
        ],
        [
         "45",
         "106",
         "126",
         "270.8"
        ],
        [
         "60",
         "107",
         "136",
         "400.0"
        ],
        [
         "60",
         "112",
         "146",
         "361.9"
        ],
        [
         "30",
         "103",
         "127",
         "185.0"
        ],
        [
         "60",
         "110",
         "150",
         "409.4"
        ],
        [
         "60",
         "106",
         "134",
         "343.0"
        ],
        [
         "60",
         "109",
         "129",
         "353.2"
        ],
        [
         "60",
         "109",
         "138",
         "374.0"
        ],
        [
         "30",
         "150",
         "167",
         "275.8"
        ],
        [
         "60",
         "105",
         "128",
         "328.0"
        ],
        [
         "60",
         "111",
         "151",
         "368.5"
        ],
        [
         "60",
         "97",
         "131",
         "270.4"
        ],
        [
         "60",
         "100",
         "120",
         "270.4"
        ],
        [
         "60",
         "114",
         "150",
         "382.8"
        ],
        [
         "30",
         "80",
         "120",
         "240.9"
        ],
        [
         "30",
         "85",
         "120",
         "250.4"
        ],
        [
         "45",
         "90",
         "130",
         "260.4"
        ],
        [
         "45",
         "95",
         "130",
         "270.0"
        ],
        [
         "45",
         "100",
         "140",
         "280.9"
        ],
        [
         "60",
         "105",
         "140",
         "290.8"
        ],
        [
         "60",
         "110",
         "145",
         "300.4"
        ],
        [
         "60",
         "115",
         "145",
         "310.2"
        ],
        [
         "75",
         "120",
         "150",
         "320.4"
        ],
        [
         "75",
         "125",
         "150",
         "330.4"
        ]
       ],
       "datasetInfos": [],
       "dbfsResultPath": null,
       "isJsonSchema": true,
       "metadata": {},
       "overflow": false,
       "plotOptions": {
        "customPlotOptions": {},
        "displayType": "table",
        "pivotAggregation": null,
        "pivotColumns": null,
        "xColumns": null,
        "yColumns": null
       },
       "removedWidgets": [],
       "schema": [
        {
         "metadata": "{}",
         "name": "Duration",
         "type": "\"string\""
        },
        {
         "metadata": "{}",
         "name": "Pulse",
         "type": "\"string\""
        },
        {
         "metadata": "{}",
         "name": "Maxpulse",
         "type": "\"string\""
        },
        {
         "metadata": "{}",
         "name": "Calories",
         "type": "\"string\""
        }
       ],
       "type": "table"
      }
     },
     "output_type": "display_data"
    },
    {
     "output_type": "display_data",
     "data": {
      "text/plain": [
       "Databricks visualization. Run in Databricks to view."
      ]
     },
     "metadata": {
      "application/vnd.databricks.v1.subcommand+json": {
       "bindings": {},
       "collapsed": false,
       "command": "%python\n__backend_agg_display_orig = display\n__backend_agg_dfs = []\ndef __backend_agg_display_new(df):\n    __backend_agg_df_modules = [\"pandas.core.frame\", \"databricks.koalas.frame\", \"pyspark.sql.dataframe\", \"pyspark.pandas.frame\", \"pyspark.sql.connect.dataframe\"]\n    if (type(df).__module__ in __backend_agg_df_modules and type(df).__name__ == 'DataFrame') or isinstance(df, list):\n        __backend_agg_dfs.append(df)\n\ndisplay = __backend_agg_display_new\n\ndef __backend_agg_user_code_fn():\n    import base64\n    exec(base64.standard_b64decode(\"ZGlzcGxheShkZjEp\").decode())\n\ntry:\n    # run user code\n    __backend_agg_user_code_fn()\n\n    #reset display function\n    display = __backend_agg_display_orig\n\n    if len(__backend_agg_dfs) > 0:\n        # create a temp view\n        if type(__backend_agg_dfs[0]).__module__ == \"databricks.koalas.frame\":\n            # koalas dataframe\n            __backend_agg_dfs[0].to_spark().createOrReplaceTempView(\"DatabricksViewee37f44\")\n        elif type(__backend_agg_dfs[0]).__module__ == \"pandas.core.frame\" or isinstance(__backend_agg_dfs[0], list):\n            # pandas dataframe\n            spark.createDataFrame(__backend_agg_dfs[0]).createOrReplaceTempView(\"DatabricksViewee37f44\")\n        else:\n            __backend_agg_dfs[0].createOrReplaceTempView(\"DatabricksViewee37f44\")\n        #run backend agg\n        display(spark.sql(\"\"\"WITH q AS (select * from DatabricksViewee37f44) SELECT `Pulse`,COUNT(`Calories`) `column_66d0526c169`,`Calories` FROM q GROUP BY `Calories`,`Pulse`\"\"\"))\n    else:\n        displayHTML(\"dataframe no longer exists. If you're using dataframe.display(), use display(dataframe) instead.\")\n\n\nfinally:\n    spark.sql(\"drop view if exists DatabricksViewee37f44\")\n    display = __backend_agg_display_orig\n    del __backend_agg_display_new\n    del __backend_agg_display_orig\n    del __backend_agg_dfs\n    del __backend_agg_user_code_fn\n\n",
       "commandTitle": "Visualization 1",
       "commandType": "auto",
       "commandVersion": 0,
       "commentThread": [],
       "commentsVisible": false,
       "contentSha256Hex": null,
       "customPlotOptions": {
        "redashChart": [
         {
          "key": "type",
          "value": "CHART"
         },
         {
          "key": "options",
          "value": {
           "alignYAxesAtZero": true,
           "coefficient": 1,
           "columnConfigurationMap": {
            "series": {
             "column": "Calories",
             "id": "column_66d0526c171"
            },
            "x": {
             "column": "Pulse",
             "id": "column_66d0526c170"
            },
            "y": [
             {
              "column": "Calories",
              "id": "column_66d0526c169",
              "transform": "COUNT"
             }
            ]
           },
           "dateTimeFormat": "DD/MM/YYYY HH:mm",
           "direction": {
            "type": "counterclockwise"
           },
           "error_y": {
            "type": "data",
            "visible": true
           },
           "globalSeriesType": "column",
           "isAggregationOn": true,
           "legend": {
            "traceorder": "reversed"
           },
           "missingValuesAsZero": false,
           "numberFormat": "0,0[.]00000",
           "percentFormat": "0[.]00%",
           "series": {
            "error_y": {
             "type": "data",
             "visible": true
            },
            "stacking": "stack"
           },
           "seriesOptions": {
            "column_66d0526c169": {
             "type": "column",
             "yAxis": 0
            }
           },
           "showDataLabels": false,
           "sizemode": "diameter",
           "sortX": true,
           "sortY": true,
           "swappedAxes": false,
           "textFormat": "",
           "useAggregationsUi": true,
           "valuesOptions": {},
           "version": 2,
           "xAxis": {
            "labels": {
             "enabled": true
            },
            "type": "-"
           },
           "yAxis": [
            {
             "type": "-"
            },
            {
             "opposite": true,
             "type": "-"
            }
           ]
          }
         }
        ]
       },
       "datasetPreviewNameToCmdIdMap": {},
       "diffDeletes": [],
       "diffInserts": [],
       "displayType": "redashChart",
       "error": null,
       "errorSummary": null,
       "errorTraceType": null,
       "finishTime": 0,
       "globalVars": {},
       "guid": "a399ac81-9b14-4e4c-9987-d372d89b2685",
       "height": "auto",
       "hideCommandCode": false,
       "hideCommandResult": false,
       "iPythonMetadata": null,
       "inputWidgets": {},
       "isLockedInExamMode": false,
       "latestUser": "a user",
       "latestUserId": null,
       "listResultMetadata": null,
       "metadata": {},
       "nuid": "864ec0be-882a-45f4-86fe-5d49a7d4728d",
       "origId": 210218866596470,
       "parentHierarchy": [
        "eed8291b-89c0-48e1-88be-24102f69a76f"
       ],
       "pivotAggregation": null,
       "pivotColumns": null,
       "position": 3.0,
       "resultDbfsErrorMessage": null,
       "resultDbfsStatus": "INLINED_IN_TREE",
       "results": null,
       "showCommandTitle": false,
       "startTime": 0,
       "state": "input",
       "streamStates": {},
       "subcommandOptions": {
        "queryPlan": {
         "groups": [
          {
           "column": "Pulse",
           "type": "column"
          },
          {
           "column": "Calories",
           "type": "column"
          }
         ],
         "selects": [
          {
           "column": "Pulse",
           "type": "column"
          },
          {
           "alias": "column_66d0526c169",
           "args": [
            {
             "column": "Calories",
             "type": "column"
            }
           ],
           "function": "COUNT",
           "type": "function"
          },
          {
           "column": "Calories",
           "type": "column"
          }
         ]
        }
       },
       "submitTime": 0,
       "subtype": "tableResultSubCmd.visualization",
       "tableResultIndex": 0,
       "useConsistentColors": false,
       "version": "CommandV1",
       "width": "auto",
       "workflows": [],
       "xColumns": null,
       "yColumns": null
      }
     },
     "output_type": "display_data"
    }
   ],
   "source": [
    "display(df1)"
   ]
  },
  {
   "cell_type": "code",
   "execution_count": 0,
   "metadata": {
    "application/vnd.databricks.v1+cell": {
     "cellMetadata": {
      "byteLimit": 2048000,
      "rowLimit": 10000
     },
     "inputWidgets": {},
     "nuid": "83908b91-1703-4432-8eca-f2ad64a68f60",
     "showTitle": false,
     "title": ""
    }
   },
   "outputs": [
    {
     "output_type": "display_data",
     "data": {
      "text/html": [
       "<style scoped>\n",
       "  .table-result-container {\n",
       "    max-height: 300px;\n",
       "    overflow: auto;\n",
       "  }\n",
       "  table, th, td {\n",
       "    border: 1px solid black;\n",
       "    border-collapse: collapse;\n",
       "  }\n",
       "  th, td {\n",
       "    padding: 5px;\n",
       "  }\n",
       "  th {\n",
       "    text-align: left;\n",
       "  }\n",
       "</style><div class='table-result-container'><table class='table-result'><thead style='background-color: white'><tr><th>Duration</th><th>Pulse</th><th>Maxpulse</th><th>Calories</th></tr></thead><tbody><tr><td>60</td><td>110</td><td>130</td><td>409.1</td></tr><tr><td>60</td><td>117</td><td>145</td><td>479.0</td></tr><tr><td>60</td><td>103</td><td>135</td><td>340.0</td></tr><tr><td>45</td><td>109</td><td>175</td><td>282.4</td></tr><tr><td>45</td><td>117</td><td>148</td><td>406.0</td></tr><tr><td>60</td><td>102</td><td>127</td><td>300.5</td></tr><tr><td>60</td><td>110</td><td>136</td><td>374.0</td></tr><tr><td>45</td><td>104</td><td>134</td><td>253.3</td></tr><tr><td>30</td><td>109</td><td>133</td><td>195.1</td></tr><tr><td>60</td><td>98</td><td>124</td><td>269.0</td></tr></tbody></table></div>"
      ]
     },
     "metadata": {
      "application/vnd.databricks.v1+output": {
       "addedWidgets": {},
       "aggData": [],
       "aggError": "",
       "aggOverflow": false,
       "aggSchema": [],
       "aggSeriesLimitReached": false,
       "aggType": "",
       "arguments": {},
       "columnCustomDisplayInfos": {},
       "data": [
        [
         "60",
         "110",
         "130",
         "409.1"
        ],
        [
         "60",
         "117",
         "145",
         "479.0"
        ],
        [
         "60",
         "103",
         "135",
         "340.0"
        ],
        [
         "45",
         "109",
         "175",
         "282.4"
        ],
        [
         "45",
         "117",
         "148",
         "406.0"
        ],
        [
         "60",
         "102",
         "127",
         "300.5"
        ],
        [
         "60",
         "110",
         "136",
         "374.0"
        ],
        [
         "45",
         "104",
         "134",
         "253.3"
        ],
        [
         "30",
         "109",
         "133",
         "195.1"
        ],
        [
         "60",
         "98",
         "124",
         "269.0"
        ]
       ],
       "datasetInfos": [],
       "dbfsResultPath": null,
       "isJsonSchema": true,
       "metadata": {},
       "overflow": false,
       "plotOptions": {
        "customPlotOptions": {},
        "displayType": "table",
        "pivotAggregation": null,
        "pivotColumns": null,
        "xColumns": null,
        "yColumns": null
       },
       "removedWidgets": [],
       "schema": [
        {
         "metadata": "{}",
         "name": "Duration",
         "type": "\"string\""
        },
        {
         "metadata": "{}",
         "name": "Pulse",
         "type": "\"string\""
        },
        {
         "metadata": "{}",
         "name": "Maxpulse",
         "type": "\"string\""
        },
        {
         "metadata": "{}",
         "name": "Calories",
         "type": "\"string\""
        }
       ],
       "type": "table"
      }
     },
     "output_type": "display_data"
    }
   ],
   "source": [
    "display(df1.limit(10))"
   ]
  },
  {
   "cell_type": "code",
   "execution_count": 0,
   "metadata": {
    "application/vnd.databricks.v1+cell": {
     "cellMetadata": {
      "byteLimit": 2048000,
      "rowLimit": 10000
     },
     "inputWidgets": {},
     "nuid": "e7789660-70dd-4c90-bbfd-203cc41e115c",
     "showTitle": false,
     "title": ""
    }
   },
   "outputs": [
    {
     "output_type": "display_data",
     "data": {
      "text/html": [
       "<style scoped>\n",
       "  .table-result-container {\n",
       "    max-height: 300px;\n",
       "    overflow: auto;\n",
       "  }\n",
       "  table, th, td {\n",
       "    border: 1px solid black;\n",
       "    border-collapse: collapse;\n",
       "  }\n",
       "  th, td {\n",
       "    padding: 5px;\n",
       "  }\n",
       "  th {\n",
       "    text-align: left;\n",
       "  }\n",
       "</style><div class='table-result-container'><table class='table-result'><thead style='background-color: white'><tr><th>Duration</th><th>Pulse</th><th>Calories</th></tr></thead><tbody><tr><td>60</td><td>110</td><td>409.1</td></tr><tr><td>60</td><td>117</td><td>479.0</td></tr><tr><td>60</td><td>103</td><td>340.0</td></tr><tr><td>60</td><td>102</td><td>300.5</td></tr><tr><td>60</td><td>110</td><td>374.0</td></tr><tr><td>60</td><td>98</td><td>269.0</td></tr><tr><td>60</td><td>103</td><td>329.3</td></tr><tr><td>60</td><td>100</td><td>250.7</td></tr><tr><td>60</td><td>106</td><td>345.3</td></tr><tr><td>60</td><td>104</td><td>379.3</td></tr><tr><td>60</td><td>98</td><td>275.0</td></tr><tr><td>60</td><td>98</td><td>215.2</td></tr><tr><td>60</td><td>100</td><td>300.0</td></tr><tr><td>60</td><td>103</td><td>323.0</td></tr><tr><td>60</td><td>108</td><td>364.2</td></tr><tr><td>60</td><td>130</td><td>300.0</td></tr><tr><td>60</td><td>102</td><td>334.5</td></tr><tr><td>60</td><td>100</td><td>250.0</td></tr><tr><td>60</td><td>92</td><td>241.0</td></tr><tr><td>60</td><td>103</td><td>null</td></tr><tr><td>60</td><td>100</td><td>280.0</td></tr><tr><td>60</td><td>102</td><td>380.3</td></tr><tr><td>60</td><td>92</td><td>243.0</td></tr><tr><td>60</td><td>101</td><td>299.0</td></tr><tr><td>60</td><td>93</td><td>223.0</td></tr><tr><td>60</td><td>107</td><td>361.0</td></tr><tr><td>60</td><td>114</td><td>415.0</td></tr><tr><td>60</td><td>102</td><td>300.5</td></tr><tr><td>60</td><td>100</td><td>300.1</td></tr><tr><td>60</td><td>100</td><td>300.0</td></tr><tr><td>60</td><td>98</td><td>286.0</td></tr><tr><td>60</td><td>100</td><td>329.4</td></tr><tr><td>60</td><td>111</td><td>400.0</td></tr><tr><td>60</td><td>111</td><td>397.0</td></tr><tr><td>60</td><td>99</td><td>273.0</td></tr><tr><td>60</td><td>109</td><td>387.6</td></tr><tr><td>60</td><td>111</td><td>397.6</td></tr><tr><td>60</td><td>107</td><td>380.2</td></tr><tr><td>60</td><td>106</td><td>263.0</td></tr><tr><td>60</td><td>118</td><td>486.0</td></tr><tr><td>60</td><td>121</td><td>450.7</td></tr><tr><td>60</td><td>118</td><td>413.0</td></tr><tr><td>60</td><td>109</td><td>387.6</td></tr><tr><td>60</td><td>102</td><td>325.2</td></tr><tr><td>60</td><td>108</td><td>367.6</td></tr><tr><td>60</td><td>108</td><td>351.7</td></tr><tr><td>60</td><td>116</td><td>443.0</td></tr><tr><td>60</td><td>97</td><td>277.4</td></tr><tr><td>60</td><td>105</td><td>null</td></tr><tr><td>60</td><td>103</td><td>332.7</td></tr><tr><td>60</td><td>119</td><td>336.7</td></tr><tr><td>60</td><td>107</td><td>344.9</td></tr><tr><td>60</td><td>111</td><td>368.5</td></tr><tr><td>60</td><td>98</td><td>271.0</td></tr><tr><td>60</td><td>97</td><td>275.3</td></tr><tr><td>60</td><td>109</td><td>382.0</td></tr><tr><td>60</td><td>114</td><td>384.0</td></tr><tr><td>60</td><td>104</td><td>342.5</td></tr><tr><td>60</td><td>107</td><td>357.5</td></tr><tr><td>60</td><td>103</td><td>335.0</td></tr><tr><td>60</td><td>106</td><td>327.5</td></tr><tr><td>60</td><td>103</td><td>339.0</td></tr><tr><td>60</td><td>108</td><td>390.0</td></tr><tr><td>60</td><td>97</td><td>null</td></tr><tr><td>60</td><td>136</td><td>470.2</td></tr><tr><td>60</td><td>107</td><td>400.0</td></tr><tr><td>60</td><td>112</td><td>361.9</td></tr><tr><td>60</td><td>110</td><td>409.4</td></tr><tr><td>60</td><td>106</td><td>343.0</td></tr><tr><td>60</td><td>109</td><td>353.2</td></tr><tr><td>60</td><td>109</td><td>374.0</td></tr><tr><td>60</td><td>105</td><td>328.0</td></tr><tr><td>60</td><td>111</td><td>368.5</td></tr><tr><td>60</td><td>97</td><td>270.4</td></tr><tr><td>60</td><td>100</td><td>270.4</td></tr><tr><td>60</td><td>114</td><td>382.8</td></tr><tr><td>60</td><td>105</td><td>290.8</td></tr><tr><td>60</td><td>110</td><td>300.4</td></tr><tr><td>60</td><td>115</td><td>310.2</td></tr></tbody></table></div>"
      ]
     },
     "metadata": {
      "application/vnd.databricks.v1+output": {
       "addedWidgets": {},
       "aggData": [],
       "aggError": "",
       "aggOverflow": false,
       "aggSchema": [],
       "aggSeriesLimitReached": false,
       "aggType": "",
       "arguments": {},
       "columnCustomDisplayInfos": {},
       "data": [
        [
         "60",
         "110",
         "409.1"
        ],
        [
         "60",
         "117",
         "479.0"
        ],
        [
         "60",
         "103",
         "340.0"
        ],
        [
         "60",
         "102",
         "300.5"
        ],
        [
         "60",
         "110",
         "374.0"
        ],
        [
         "60",
         "98",
         "269.0"
        ],
        [
         "60",
         "103",
         "329.3"
        ],
        [
         "60",
         "100",
         "250.7"
        ],
        [
         "60",
         "106",
         "345.3"
        ],
        [
         "60",
         "104",
         "379.3"
        ],
        [
         "60",
         "98",
         "275.0"
        ],
        [
         "60",
         "98",
         "215.2"
        ],
        [
         "60",
         "100",
         "300.0"
        ],
        [
         "60",
         "103",
         "323.0"
        ],
        [
         "60",
         "108",
         "364.2"
        ],
        [
         "60",
         "130",
         "300.0"
        ],
        [
         "60",
         "102",
         "334.5"
        ],
        [
         "60",
         "100",
         "250.0"
        ],
        [
         "60",
         "92",
         "241.0"
        ],
        [
         "60",
         "103",
         null
        ],
        [
         "60",
         "100",
         "280.0"
        ],
        [
         "60",
         "102",
         "380.3"
        ],
        [
         "60",
         "92",
         "243.0"
        ],
        [
         "60",
         "101",
         "299.0"
        ],
        [
         "60",
         "93",
         "223.0"
        ],
        [
         "60",
         "107",
         "361.0"
        ],
        [
         "60",
         "114",
         "415.0"
        ],
        [
         "60",
         "102",
         "300.5"
        ],
        [
         "60",
         "100",
         "300.1"
        ],
        [
         "60",
         "100",
         "300.0"
        ],
        [
         "60",
         "98",
         "286.0"
        ],
        [
         "60",
         "100",
         "329.4"
        ],
        [
         "60",
         "111",
         "400.0"
        ],
        [
         "60",
         "111",
         "397.0"
        ],
        [
         "60",
         "99",
         "273.0"
        ],
        [
         "60",
         "109",
         "387.6"
        ],
        [
         "60",
         "111",
         "397.6"
        ],
        [
         "60",
         "107",
         "380.2"
        ],
        [
         "60",
         "106",
         "263.0"
        ],
        [
         "60",
         "118",
         "486.0"
        ],
        [
         "60",
         "121",
         "450.7"
        ],
        [
         "60",
         "118",
         "413.0"
        ],
        [
         "60",
         "109",
         "387.6"
        ],
        [
         "60",
         "102",
         "325.2"
        ],
        [
         "60",
         "108",
         "367.6"
        ],
        [
         "60",
         "108",
         "351.7"
        ],
        [
         "60",
         "116",
         "443.0"
        ],
        [
         "60",
         "97",
         "277.4"
        ],
        [
         "60",
         "105",
         null
        ],
        [
         "60",
         "103",
         "332.7"
        ],
        [
         "60",
         "119",
         "336.7"
        ],
        [
         "60",
         "107",
         "344.9"
        ],
        [
         "60",
         "111",
         "368.5"
        ],
        [
         "60",
         "98",
         "271.0"
        ],
        [
         "60",
         "97",
         "275.3"
        ],
        [
         "60",
         "109",
         "382.0"
        ],
        [
         "60",
         "114",
         "384.0"
        ],
        [
         "60",
         "104",
         "342.5"
        ],
        [
         "60",
         "107",
         "357.5"
        ],
        [
         "60",
         "103",
         "335.0"
        ],
        [
         "60",
         "106",
         "327.5"
        ],
        [
         "60",
         "103",
         "339.0"
        ],
        [
         "60",
         "108",
         "390.0"
        ],
        [
         "60",
         "97",
         null
        ],
        [
         "60",
         "136",
         "470.2"
        ],
        [
         "60",
         "107",
         "400.0"
        ],
        [
         "60",
         "112",
         "361.9"
        ],
        [
         "60",
         "110",
         "409.4"
        ],
        [
         "60",
         "106",
         "343.0"
        ],
        [
         "60",
         "109",
         "353.2"
        ],
        [
         "60",
         "109",
         "374.0"
        ],
        [
         "60",
         "105",
         "328.0"
        ],
        [
         "60",
         "111",
         "368.5"
        ],
        [
         "60",
         "97",
         "270.4"
        ],
        [
         "60",
         "100",
         "270.4"
        ],
        [
         "60",
         "114",
         "382.8"
        ],
        [
         "60",
         "105",
         "290.8"
        ],
        [
         "60",
         "110",
         "300.4"
        ],
        [
         "60",
         "115",
         "310.2"
        ]
       ],
       "datasetInfos": [],
       "dbfsResultPath": null,
       "isJsonSchema": true,
       "metadata": {},
       "overflow": false,
       "plotOptions": {
        "customPlotOptions": {},
        "displayType": "table",
        "pivotAggregation": null,
        "pivotColumns": null,
        "xColumns": null,
        "yColumns": null
       },
       "removedWidgets": [],
       "schema": [
        {
         "metadata": "{}",
         "name": "Duration",
         "type": "\"string\""
        },
        {
         "metadata": "{}",
         "name": "Pulse",
         "type": "\"string\""
        },
        {
         "metadata": "{}",
         "name": "Calories",
         "type": "\"string\""
        }
       ],
       "type": "table"
      }
     },
     "output_type": "display_data"
    }
   ],
   "source": [
    "df3=df1.select(\"Duration\",\"Pulse\",\"Calories\").where(df1['Duration']=='60')\n",
    "display(df3)"
   ]
  },
  {
   "cell_type": "code",
   "execution_count": 0,
   "metadata": {
    "application/vnd.databricks.v1+cell": {
     "cellMetadata": {},
     "inputWidgets": {},
     "nuid": "93c513a3-789d-49f3-af07-b1f6924d691a",
     "showTitle": false,
     "title": ""
    }
   },
   "outputs": [],
   "source": []
  },
  {
   "cell_type": "code",
   "execution_count": 0,
   "metadata": {
    "application/vnd.databricks.v1+cell": {
     "cellMetadata": {
      "byteLimit": 2048000,
      "rowLimit": 10000
     },
     "inputWidgets": {},
     "nuid": "1591be86-e0a0-4a8e-873a-003c86c5959b",
     "showTitle": false,
     "title": ""
    }
   },
   "outputs": [
    {
     "output_type": "display_data",
     "data": {
      "text/html": [
       "<style scoped>\n",
       "  .table-result-container {\n",
       "    max-height: 300px;\n",
       "    overflow: auto;\n",
       "  }\n",
       "  table, th, td {\n",
       "    border: 1px solid black;\n",
       "    border-collapse: collapse;\n",
       "  }\n",
       "  th, td {\n",
       "    padding: 5px;\n",
       "  }\n",
       "  th {\n",
       "    text-align: left;\n",
       "  }\n",
       "</style><div class='table-result-container'><table class='table-result'><thead style='background-color: white'><tr><th>Pulse</th><th>Calories</th></tr></thead><tbody><tr><td>110</td><td>409.1</td></tr><tr><td>117</td><td>479.0</td></tr><tr><td>103</td><td>340.0</td></tr><tr><td>109</td><td>282.4</td></tr><tr><td>117</td><td>406.0</td></tr><tr><td>102</td><td>300.5</td></tr><tr><td>110</td><td>374.0</td></tr><tr><td>104</td><td>253.3</td></tr><tr><td>109</td><td>195.1</td></tr><tr><td>98</td><td>269.0</td></tr><tr><td>103</td><td>329.3</td></tr><tr><td>100</td><td>250.7</td></tr><tr><td>106</td><td>345.3</td></tr><tr><td>104</td><td>379.3</td></tr><tr><td>98</td><td>275.0</td></tr><tr><td>98</td><td>215.2</td></tr><tr><td>100</td><td>300.0</td></tr><tr><td>90</td><td>null</td></tr><tr><td>103</td><td>323.0</td></tr><tr><td>97</td><td>243.0</td></tr><tr><td>108</td><td>364.2</td></tr><tr><td>100</td><td>282.0</td></tr><tr><td>130</td><td>300.0</td></tr><tr><td>105</td><td>246.0</td></tr><tr><td>102</td><td>334.5</td></tr><tr><td>100</td><td>250.0</td></tr><tr><td>92</td><td>241.0</td></tr><tr><td>103</td><td>null</td></tr><tr><td>100</td><td>280.0</td></tr><tr><td>102</td><td>380.3</td></tr><tr><td>92</td><td>243.0</td></tr><tr><td>90</td><td>180.1</td></tr><tr><td>101</td><td>299.0</td></tr><tr><td>93</td><td>223.0</td></tr><tr><td>107</td><td>361.0</td></tr><tr><td>114</td><td>415.0</td></tr><tr><td>102</td><td>300.5</td></tr><tr><td>100</td><td>300.1</td></tr><tr><td>100</td><td>300.0</td></tr><tr><td>104</td><td>266.0</td></tr><tr><td>90</td><td>180.1</td></tr><tr><td>98</td><td>286.0</td></tr><tr><td>100</td><td>329.4</td></tr><tr><td>111</td><td>400.0</td></tr><tr><td>111</td><td>397.0</td></tr><tr><td>99</td><td>273.0</td></tr><tr><td>109</td><td>387.6</td></tr><tr><td>111</td><td>300.0</td></tr><tr><td>108</td><td>298.0</td></tr><tr><td>111</td><td>397.6</td></tr><tr><td>107</td><td>380.2</td></tr><tr><td>123</td><td>643.1</td></tr><tr><td>106</td><td>263.0</td></tr><tr><td>118</td><td>486.0</td></tr><tr><td>136</td><td>238.0</td></tr><tr><td>121</td><td>450.7</td></tr><tr><td>118</td><td>413.0</td></tr><tr><td>115</td><td>305.0</td></tr><tr><td>153</td><td>226.4</td></tr><tr><td>123</td><td>321.0</td></tr><tr><td>108</td><td>1376.0</td></tr><tr><td>110</td><td>1034.4</td></tr><tr><td>109</td><td>853.0</td></tr><tr><td>118</td><td>341.0</td></tr><tr><td>110</td><td>131.4</td></tr><tr><td>90</td><td>800.4</td></tr><tr><td>105</td><td>873.4</td></tr><tr><td>107</td><td>816.0</td></tr><tr><td>106</td><td>110.4</td></tr><tr><td>108</td><td>1500.2</td></tr><tr><td>97</td><td>1115.0</td></tr><tr><td>109</td><td>387.6</td></tr><tr><td>100</td><td>700.0</td></tr><tr><td>97</td><td>953.2</td></tr><tr><td>114</td><td>304.0</td></tr><tr><td>98</td><td>563.2</td></tr><tr><td>105</td><td>251.0</td></tr><tr><td>110</td><td>300.0</td></tr><tr><td>100</td><td>500.4</td></tr><tr><td>100</td><td>1729.0</td></tr><tr><td>159</td><td>319.2</td></tr><tr><td>149</td><td>344.0</td></tr><tr><td>103</td><td>151.1</td></tr><tr><td>100</td><td>500.0</td></tr><tr><td>100</td><td>225.3</td></tr><tr><td>151</td><td>300.1</td></tr><tr><td>102</td><td>234.0</td></tr><tr><td>100</td><td>1000.1</td></tr><tr><td>129</td><td>242.0</td></tr><tr><td>83</td><td>50.3</td></tr><tr><td>101</td><td>600.1</td></tr><tr><td>107</td><td>null</td></tr><tr><td>90</td><td>105.3</td></tr><tr><td>80</td><td>50.5</td></tr><tr><td>150</td><td>127.4</td></tr><tr><td>151</td><td>229.4</td></tr><tr><td>95</td><td>128.2</td></tr><tr><td>152</td><td>244.2</td></tr><tr><td>109</td><td>188.2</td></tr><tr><td>93</td><td>604.1</td></tr><tr><td>95</td><td>77.7</td></tr><tr><td>90</td><td>500.0</td></tr><tr><td>90</td><td>500.0</td></tr><tr><td>90</td><td>500.4</td></tr><tr><td>92</td><td>92.7</td></tr><tr><td>93</td><td>124.0</td></tr><tr><td>90</td><td>800.3</td></tr><tr><td>90</td><td>86.2</td></tr><tr><td>90</td><td>500.3</td></tr><tr><td>137</td><td>1860.4</td></tr><tr><td>102</td><td>325.2</td></tr><tr><td>107</td><td>275.0</td></tr><tr><td>124</td><td>124.2</td></tr><tr><td>100</td><td>225.3</td></tr><tr><td>108</td><td>367.6</td></tr><tr><td>108</td><td>351.7</td></tr><tr><td>116</td><td>443.0</td></tr><tr><td>97</td><td>277.4</td></tr><tr><td>105</td><td>null</td></tr><tr><td>103</td><td>332.7</td></tr><tr><td>112</td><td>193.9</td></tr><tr><td>100</td><td>100.7</td></tr><tr><td>119</td><td>336.7</td></tr><tr><td>107</td><td>344.9</td></tr><tr><td>111</td><td>368.5</td></tr><tr><td>98</td><td>271.0</td></tr><tr><td>97</td><td>275.3</td></tr><tr><td>109</td><td>382.0</td></tr><tr><td>99</td><td>466.4</td></tr><tr><td>114</td><td>384.0</td></tr><tr><td>104</td><td>342.5</td></tr><tr><td>107</td><td>357.5</td></tr><tr><td>103</td><td>335.0</td></tr><tr><td>106</td><td>327.5</td></tr><tr><td>103</td><td>339.0</td></tr><tr><td>136</td><td>189.0</td></tr><tr><td>117</td><td>317.7</td></tr><tr><td>115</td><td>318.0</td></tr><tr><td>113</td><td>308.0</td></tr><tr><td>141</td><td>222.4</td></tr><tr><td>108</td><td>390.0</td></tr><tr><td>97</td><td>null</td></tr><tr><td>100</td><td>250.4</td></tr><tr><td>122</td><td>335.4</td></tr><tr><td>136</td><td>470.2</td></tr><tr><td>106</td><td>270.8</td></tr><tr><td>107</td><td>400.0</td></tr><tr><td>112</td><td>361.9</td></tr><tr><td>103</td><td>185.0</td></tr><tr><td>110</td><td>409.4</td></tr><tr><td>106</td><td>343.0</td></tr><tr><td>109</td><td>353.2</td></tr><tr><td>109</td><td>374.0</td></tr><tr><td>150</td><td>275.8</td></tr><tr><td>105</td><td>328.0</td></tr><tr><td>111</td><td>368.5</td></tr><tr><td>97</td><td>270.4</td></tr><tr><td>100</td><td>270.4</td></tr><tr><td>114</td><td>382.8</td></tr><tr><td>80</td><td>240.9</td></tr><tr><td>85</td><td>250.4</td></tr><tr><td>90</td><td>260.4</td></tr><tr><td>95</td><td>270.0</td></tr><tr><td>100</td><td>280.9</td></tr><tr><td>105</td><td>290.8</td></tr><tr><td>110</td><td>300.4</td></tr><tr><td>115</td><td>310.2</td></tr><tr><td>120</td><td>320.4</td></tr><tr><td>125</td><td>330.4</td></tr></tbody></table></div>"
      ]
     },
     "metadata": {
      "application/vnd.databricks.v1+output": {
       "addedWidgets": {},
       "aggData": [],
       "aggError": "",
       "aggOverflow": false,
       "aggSchema": [],
       "aggSeriesLimitReached": false,
       "aggType": "",
       "arguments": {},
       "columnCustomDisplayInfos": {},
       "data": [
        [
         "110",
         "409.1"
        ],
        [
         "117",
         "479.0"
        ],
        [
         "103",
         "340.0"
        ],
        [
         "109",
         "282.4"
        ],
        [
         "117",
         "406.0"
        ],
        [
         "102",
         "300.5"
        ],
        [
         "110",
         "374.0"
        ],
        [
         "104",
         "253.3"
        ],
        [
         "109",
         "195.1"
        ],
        [
         "98",
         "269.0"
        ],
        [
         "103",
         "329.3"
        ],
        [
         "100",
         "250.7"
        ],
        [
         "106",
         "345.3"
        ],
        [
         "104",
         "379.3"
        ],
        [
         "98",
         "275.0"
        ],
        [
         "98",
         "215.2"
        ],
        [
         "100",
         "300.0"
        ],
        [
         "90",
         null
        ],
        [
         "103",
         "323.0"
        ],
        [
         "97",
         "243.0"
        ],
        [
         "108",
         "364.2"
        ],
        [
         "100",
         "282.0"
        ],
        [
         "130",
         "300.0"
        ],
        [
         "105",
         "246.0"
        ],
        [
         "102",
         "334.5"
        ],
        [
         "100",
         "250.0"
        ],
        [
         "92",
         "241.0"
        ],
        [
         "103",
         null
        ],
        [
         "100",
         "280.0"
        ],
        [
         "102",
         "380.3"
        ],
        [
         "92",
         "243.0"
        ],
        [
         "90",
         "180.1"
        ],
        [
         "101",
         "299.0"
        ],
        [
         "93",
         "223.0"
        ],
        [
         "107",
         "361.0"
        ],
        [
         "114",
         "415.0"
        ],
        [
         "102",
         "300.5"
        ],
        [
         "100",
         "300.1"
        ],
        [
         "100",
         "300.0"
        ],
        [
         "104",
         "266.0"
        ],
        [
         "90",
         "180.1"
        ],
        [
         "98",
         "286.0"
        ],
        [
         "100",
         "329.4"
        ],
        [
         "111",
         "400.0"
        ],
        [
         "111",
         "397.0"
        ],
        [
         "99",
         "273.0"
        ],
        [
         "109",
         "387.6"
        ],
        [
         "111",
         "300.0"
        ],
        [
         "108",
         "298.0"
        ],
        [
         "111",
         "397.6"
        ],
        [
         "107",
         "380.2"
        ],
        [
         "123",
         "643.1"
        ],
        [
         "106",
         "263.0"
        ],
        [
         "118",
         "486.0"
        ],
        [
         "136",
         "238.0"
        ],
        [
         "121",
         "450.7"
        ],
        [
         "118",
         "413.0"
        ],
        [
         "115",
         "305.0"
        ],
        [
         "153",
         "226.4"
        ],
        [
         "123",
         "321.0"
        ],
        [
         "108",
         "1376.0"
        ],
        [
         "110",
         "1034.4"
        ],
        [
         "109",
         "853.0"
        ],
        [
         "118",
         "341.0"
        ],
        [
         "110",
         "131.4"
        ],
        [
         "90",
         "800.4"
        ],
        [
         "105",
         "873.4"
        ],
        [
         "107",
         "816.0"
        ],
        [
         "106",
         "110.4"
        ],
        [
         "108",
         "1500.2"
        ],
        [
         "97",
         "1115.0"
        ],
        [
         "109",
         "387.6"
        ],
        [
         "100",
         "700.0"
        ],
        [
         "97",
         "953.2"
        ],
        [
         "114",
         "304.0"
        ],
        [
         "98",
         "563.2"
        ],
        [
         "105",
         "251.0"
        ],
        [
         "110",
         "300.0"
        ],
        [
         "100",
         "500.4"
        ],
        [
         "100",
         "1729.0"
        ],
        [
         "159",
         "319.2"
        ],
        [
         "149",
         "344.0"
        ],
        [
         "103",
         "151.1"
        ],
        [
         "100",
         "500.0"
        ],
        [
         "100",
         "225.3"
        ],
        [
         "151",
         "300.1"
        ],
        [
         "102",
         "234.0"
        ],
        [
         "100",
         "1000.1"
        ],
        [
         "129",
         "242.0"
        ],
        [
         "83",
         "50.3"
        ],
        [
         "101",
         "600.1"
        ],
        [
         "107",
         null
        ],
        [
         "90",
         "105.3"
        ],
        [
         "80",
         "50.5"
        ],
        [
         "150",
         "127.4"
        ],
        [
         "151",
         "229.4"
        ],
        [
         "95",
         "128.2"
        ],
        [
         "152",
         "244.2"
        ],
        [
         "109",
         "188.2"
        ],
        [
         "93",
         "604.1"
        ],
        [
         "95",
         "77.7"
        ],
        [
         "90",
         "500.0"
        ],
        [
         "90",
         "500.0"
        ],
        [
         "90",
         "500.4"
        ],
        [
         "92",
         "92.7"
        ],
        [
         "93",
         "124.0"
        ],
        [
         "90",
         "800.3"
        ],
        [
         "90",
         "86.2"
        ],
        [
         "90",
         "500.3"
        ],
        [
         "137",
         "1860.4"
        ],
        [
         "102",
         "325.2"
        ],
        [
         "107",
         "275.0"
        ],
        [
         "124",
         "124.2"
        ],
        [
         "100",
         "225.3"
        ],
        [
         "108",
         "367.6"
        ],
        [
         "108",
         "351.7"
        ],
        [
         "116",
         "443.0"
        ],
        [
         "97",
         "277.4"
        ],
        [
         "105",
         null
        ],
        [
         "103",
         "332.7"
        ],
        [
         "112",
         "193.9"
        ],
        [
         "100",
         "100.7"
        ],
        [
         "119",
         "336.7"
        ],
        [
         "107",
         "344.9"
        ],
        [
         "111",
         "368.5"
        ],
        [
         "98",
         "271.0"
        ],
        [
         "97",
         "275.3"
        ],
        [
         "109",
         "382.0"
        ],
        [
         "99",
         "466.4"
        ],
        [
         "114",
         "384.0"
        ],
        [
         "104",
         "342.5"
        ],
        [
         "107",
         "357.5"
        ],
        [
         "103",
         "335.0"
        ],
        [
         "106",
         "327.5"
        ],
        [
         "103",
         "339.0"
        ],
        [
         "136",
         "189.0"
        ],
        [
         "117",
         "317.7"
        ],
        [
         "115",
         "318.0"
        ],
        [
         "113",
         "308.0"
        ],
        [
         "141",
         "222.4"
        ],
        [
         "108",
         "390.0"
        ],
        [
         "97",
         null
        ],
        [
         "100",
         "250.4"
        ],
        [
         "122",
         "335.4"
        ],
        [
         "136",
         "470.2"
        ],
        [
         "106",
         "270.8"
        ],
        [
         "107",
         "400.0"
        ],
        [
         "112",
         "361.9"
        ],
        [
         "103",
         "185.0"
        ],
        [
         "110",
         "409.4"
        ],
        [
         "106",
         "343.0"
        ],
        [
         "109",
         "353.2"
        ],
        [
         "109",
         "374.0"
        ],
        [
         "150",
         "275.8"
        ],
        [
         "105",
         "328.0"
        ],
        [
         "111",
         "368.5"
        ],
        [
         "97",
         "270.4"
        ],
        [
         "100",
         "270.4"
        ],
        [
         "114",
         "382.8"
        ],
        [
         "80",
         "240.9"
        ],
        [
         "85",
         "250.4"
        ],
        [
         "90",
         "260.4"
        ],
        [
         "95",
         "270.0"
        ],
        [
         "100",
         "280.9"
        ],
        [
         "105",
         "290.8"
        ],
        [
         "110",
         "300.4"
        ],
        [
         "115",
         "310.2"
        ],
        [
         "120",
         "320.4"
        ],
        [
         "125",
         "330.4"
        ]
       ],
       "datasetInfos": [],
       "dbfsResultPath": null,
       "isJsonSchema": true,
       "metadata": {},
       "overflow": false,
       "plotOptions": {
        "customPlotOptions": {},
        "displayType": "table",
        "pivotAggregation": null,
        "pivotColumns": null,
        "xColumns": null,
        "yColumns": null
       },
       "removedWidgets": [],
       "schema": [
        {
         "metadata": "{}",
         "name": "Pulse",
         "type": "\"string\""
        },
        {
         "metadata": "{}",
         "name": "Calories",
         "type": "\"string\""
        }
       ],
       "type": "table"
      }
     },
     "output_type": "display_data"
    }
   ],
   "source": [
    "df2=df1['Pulse','Calories']\n",
    "display(df2)"
   ]
  },
  {
   "cell_type": "code",
   "execution_count": 0,
   "metadata": {
    "application/vnd.databricks.v1+cell": {
     "cellMetadata": {
      "byteLimit": 2048000,
      "rowLimit": 10000
     },
     "inputWidgets": {},
     "nuid": "ee089076-6117-4846-8c64-82f122458f62",
     "showTitle": false,
     "title": ""
    }
   },
   "outputs": [
    {
     "output_type": "stream",
     "name": "stdout",
     "output_type": "stream",
     "text": [
      "169\n"
     ]
    }
   ],
   "source": [
    "print(df1.count())"
   ]
  },
  {
   "cell_type": "code",
   "execution_count": 0,
   "metadata": {
    "application/vnd.databricks.v1+cell": {
     "cellMetadata": {
      "byteLimit": 2048000,
      "rowLimit": 10000
     },
     "inputWidgets": {},
     "nuid": "b6423386-e599-4669-b823-783cfd32e65c",
     "showTitle": false,
     "title": ""
    }
   },
   "outputs": [
    {
     "output_type": "stream",
     "name": "stdout",
     "output_type": "stream",
     "text": [
      "163\nDataFrame[Duration: string, Pulse: string, Maxpulse: string, Calories: string]\n"
     ]
    }
   ],
   "source": [
    "print(df1.distinct().count())\n",
    "print(df1.distinct())"
   ]
  },
  {
   "cell_type": "code",
   "execution_count": 0,
   "metadata": {
    "application/vnd.databricks.v1+cell": {
     "cellMetadata": {
      "byteLimit": 2048000,
      "rowLimit": 10000
     },
     "inputWidgets": {},
     "nuid": "aee4a5de-16f0-4243-82f7-2c08fbe43064",
     "showTitle": false,
     "title": ""
    }
   },
   "outputs": [
    {
     "output_type": "stream",
     "name": "stdout",
     "output_type": "stream",
     "text": [
      "root\n |-- Duration: string (nullable = true)\n |-- Pulse: string (nullable = true)\n |-- Maxpulse: string (nullable = true)\n |-- Calories: string (nullable = true)\n\n"
     ]
    }
   ],
   "source": [
    "df1.printSchema()"
   ]
  },
  {
   "cell_type": "code",
   "execution_count": 0,
   "metadata": {
    "application/vnd.databricks.v1+cell": {
     "cellMetadata": {},
     "inputWidgets": {},
     "nuid": "7ce3b668-8264-43e2-bded-39c852f27397",
     "showTitle": false,
     "title": ""
    }
   },
   "outputs": [],
   "source": []
  },
  {
   "cell_type": "code",
   "execution_count": 0,
   "metadata": {
    "application/vnd.databricks.v1+cell": {
     "cellMetadata": {
      "byteLimit": 2048000,
      "rowLimit": 10000
     },
     "inputWidgets": {},
     "nuid": "bc227eaa-0fc5-497e-9582-fcf958c0b51d",
     "showTitle": false,
     "title": ""
    }
   },
   "outputs": [],
   "source": [
    "df1.write.saveAsTable(\"health_record\")"
   ]
  },
  {
   "cell_type": "code",
   "execution_count": 0,
   "metadata": {
    "application/vnd.databricks.v1+cell": {
     "cellMetadata": {
      "byteLimit": 2048000,
      "implicitDf": true,
      "rowLimit": 10000
     },
     "inputWidgets": {},
     "nuid": "fc1af7f9-53ca-46e6-b4b1-f130d8834af3",
     "showTitle": false,
     "title": ""
    }
   },
   "outputs": [
    {
     "output_type": "display_data",
     "data": {
      "text/html": [
       "<style scoped>\n",
       "  .table-result-container {\n",
       "    max-height: 300px;\n",
       "    overflow: auto;\n",
       "  }\n",
       "  table, th, td {\n",
       "    border: 1px solid black;\n",
       "    border-collapse: collapse;\n",
       "  }\n",
       "  th, td {\n",
       "    padding: 5px;\n",
       "  }\n",
       "  th {\n",
       "    text-align: left;\n",
       "  }\n",
       "</style><div class='table-result-container'><table class='table-result'><thead style='background-color: white'><tr><th>Duration</th><th>Pulse</th><th>Maxpulse</th><th>Calories</th></tr></thead><tbody><tr><td>60</td><td>110</td><td>130</td><td>409.1</td></tr><tr><td>60</td><td>117</td><td>145</td><td>479.0</td></tr><tr><td>60</td><td>103</td><td>135</td><td>340.0</td></tr><tr><td>45</td><td>109</td><td>175</td><td>282.4</td></tr><tr><td>45</td><td>117</td><td>148</td><td>406.0</td></tr><tr><td>60</td><td>102</td><td>127</td><td>300.5</td></tr><tr><td>60</td><td>110</td><td>136</td><td>374.0</td></tr><tr><td>45</td><td>104</td><td>134</td><td>253.3</td></tr><tr><td>30</td><td>109</td><td>133</td><td>195.1</td></tr><tr><td>60</td><td>98</td><td>124</td><td>269.0</td></tr><tr><td>60</td><td>103</td><td>147</td><td>329.3</td></tr><tr><td>60</td><td>100</td><td>120</td><td>250.7</td></tr><tr><td>60</td><td>106</td><td>128</td><td>345.3</td></tr><tr><td>60</td><td>104</td><td>132</td><td>379.3</td></tr><tr><td>60</td><td>98</td><td>123</td><td>275.0</td></tr><tr><td>60</td><td>98</td><td>120</td><td>215.2</td></tr><tr><td>60</td><td>100</td><td>120</td><td>300.0</td></tr><tr><td>45</td><td>90</td><td>112</td><td>null</td></tr><tr><td>60</td><td>103</td><td>123</td><td>323.0</td></tr><tr><td>45</td><td>97</td><td>125</td><td>243.0</td></tr><tr><td>60</td><td>108</td><td>131</td><td>364.2</td></tr><tr><td>45</td><td>100</td><td>119</td><td>282.0</td></tr><tr><td>60</td><td>130</td><td>101</td><td>300.0</td></tr><tr><td>45</td><td>105</td><td>132</td><td>246.0</td></tr><tr><td>60</td><td>102</td><td>126</td><td>334.5</td></tr><tr><td>60</td><td>100</td><td>120</td><td>250.0</td></tr><tr><td>60</td><td>92</td><td>118</td><td>241.0</td></tr><tr><td>60</td><td>103</td><td>132</td><td>null</td></tr><tr><td>60</td><td>100</td><td>132</td><td>280.0</td></tr><tr><td>60</td><td>102</td><td>129</td><td>380.3</td></tr><tr><td>60</td><td>92</td><td>115</td><td>243.0</td></tr><tr><td>45</td><td>90</td><td>112</td><td>180.1</td></tr><tr><td>60</td><td>101</td><td>124</td><td>299.0</td></tr><tr><td>60</td><td>93</td><td>113</td><td>223.0</td></tr><tr><td>60</td><td>107</td><td>136</td><td>361.0</td></tr><tr><td>60</td><td>114</td><td>140</td><td>415.0</td></tr><tr><td>60</td><td>102</td><td>127</td><td>300.5</td></tr><tr><td>60</td><td>100</td><td>120</td><td>300.1</td></tr><tr><td>60</td><td>100</td><td>120</td><td>300.0</td></tr><tr><td>45</td><td>104</td><td>129</td><td>266.0</td></tr><tr><td>45</td><td>90</td><td>112</td><td>180.1</td></tr><tr><td>60</td><td>98</td><td>126</td><td>286.0</td></tr><tr><td>60</td><td>100</td><td>122</td><td>329.4</td></tr><tr><td>60</td><td>111</td><td>138</td><td>400.0</td></tr><tr><td>60</td><td>111</td><td>131</td><td>397.0</td></tr><tr><td>60</td><td>99</td><td>119</td><td>273.0</td></tr><tr><td>60</td><td>109</td><td>153</td><td>387.6</td></tr><tr><td>45</td><td>111</td><td>136</td><td>300.0</td></tr><tr><td>45</td><td>108</td><td>129</td><td>298.0</td></tr><tr><td>60</td><td>111</td><td>139</td><td>397.6</td></tr><tr><td>60</td><td>107</td><td>136</td><td>380.2</td></tr><tr><td>80</td><td>123</td><td>146</td><td>643.1</td></tr><tr><td>60</td><td>106</td><td>130</td><td>263.0</td></tr><tr><td>60</td><td>118</td><td>151</td><td>486.0</td></tr><tr><td>30</td><td>136</td><td>175</td><td>238.0</td></tr><tr><td>60</td><td>121</td><td>146</td><td>450.7</td></tr><tr><td>60</td><td>118</td><td>121</td><td>413.0</td></tr><tr><td>45</td><td>115</td><td>144</td><td>305.0</td></tr><tr><td>20</td><td>153</td><td>172</td><td>226.4</td></tr><tr><td>45</td><td>123</td><td>152</td><td>321.0</td></tr><tr><td>210</td><td>108</td><td>160</td><td>1376.0</td></tr><tr><td>160</td><td>110</td><td>137</td><td>1034.4</td></tr><tr><td>160</td><td>109</td><td>135</td><td>853.0</td></tr><tr><td>45</td><td>118</td><td>141</td><td>341.0</td></tr><tr><td>20</td><td>110</td><td>130</td><td>131.4</td></tr><tr><td>180</td><td>90</td><td>130</td><td>800.4</td></tr><tr><td>150</td><td>105</td><td>135</td><td>873.4</td></tr><tr><td>150</td><td>107</td><td>130</td><td>816.0</td></tr><tr><td>20</td><td>106</td><td>136</td><td>110.4</td></tr><tr><td>300</td><td>108</td><td>143</td><td>1500.2</td></tr><tr><td>150</td><td>97</td><td>129</td><td>1115.0</td></tr><tr><td>60</td><td>109</td><td>153</td><td>387.6</td></tr><tr><td>90</td><td>100</td><td>127</td><td>700.0</td></tr><tr><td>150</td><td>97</td><td>127</td><td>953.2</td></tr><tr><td>45</td><td>114</td><td>146</td><td>304.0</td></tr><tr><td>90</td><td>98</td><td>125</td><td>563.2</td></tr><tr><td>45</td><td>105</td><td>134</td><td>251.0</td></tr><tr><td>45</td><td>110</td><td>141</td><td>300.0</td></tr><tr><td>120</td><td>100</td><td>130</td><td>500.4</td></tr><tr><td>270</td><td>100</td><td>131</td><td>1729.0</td></tr><tr><td>30</td><td>159</td><td>182</td><td>319.2</td></tr><tr><td>45</td><td>149</td><td>169</td><td>344.0</td></tr><tr><td>30</td><td>103</td><td>139</td><td>151.1</td></tr><tr><td>120</td><td>100</td><td>130</td><td>500.0</td></tr><tr><td>45</td><td>100</td><td>120</td><td>225.3</td></tr><tr><td>30</td><td>151</td><td>170</td><td>300.1</td></tr><tr><td>45</td><td>102</td><td>136</td><td>234.0</td></tr><tr><td>120</td><td>100</td><td>157</td><td>1000.1</td></tr><tr><td>45</td><td>129</td><td>103</td><td>242.0</td></tr><tr><td>20</td><td>83</td><td>107</td><td>50.3</td></tr><tr><td>180</td><td>101</td><td>127</td><td>600.1</td></tr><tr><td>45</td><td>107</td><td>137</td><td>null</td></tr><tr><td>30</td><td>90</td><td>107</td><td>105.3</td></tr><tr><td>15</td><td>80</td><td>100</td><td>50.5</td></tr><tr><td>20</td><td>150</td><td>171</td><td>127.4</td></tr><tr><td>20</td><td>151</td><td>168</td><td>229.4</td></tr><tr><td>30</td><td>95</td><td>128</td><td>128.2</td></tr><tr><td>25</td><td>152</td><td>168</td><td>244.2</td></tr><tr><td>30</td><td>109</td><td>131</td><td>188.2</td></tr><tr><td>90</td><td>93</td><td>124</td><td>604.1</td></tr><tr><td>20</td><td>95</td><td>112</td><td>77.7</td></tr><tr><td>90</td><td>90</td><td>110</td><td>500.0</td></tr><tr><td>90</td><td>90</td><td>100</td><td>500.0</td></tr><tr><td>90</td><td>90</td><td>100</td><td>500.4</td></tr><tr><td>30</td><td>92</td><td>108</td><td>92.7</td></tr><tr><td>30</td><td>93</td><td>128</td><td>124.0</td></tr><tr><td>180</td><td>90</td><td>120</td><td>800.3</td></tr><tr><td>30</td><td>90</td><td>120</td><td>86.2</td></tr><tr><td>90</td><td>90</td><td>120</td><td>500.3</td></tr><tr><td>210</td><td>137</td><td>184</td><td>1860.4</td></tr><tr><td>60</td><td>102</td><td>124</td><td>325.2</td></tr><tr><td>45</td><td>107</td><td>124</td><td>275.0</td></tr><tr><td>15</td><td>124</td><td>139</td><td>124.2</td></tr><tr><td>45</td><td>100</td><td>120</td><td>225.3</td></tr><tr><td>60</td><td>108</td><td>131</td><td>367.6</td></tr><tr><td>60</td><td>108</td><td>151</td><td>351.7</td></tr><tr><td>60</td><td>116</td><td>141</td><td>443.0</td></tr><tr><td>60</td><td>97</td><td>122</td><td>277.4</td></tr><tr><td>60</td><td>105</td><td>125</td><td>null</td></tr><tr><td>60</td><td>103</td><td>124</td><td>332.7</td></tr><tr><td>30</td><td>112</td><td>137</td><td>193.9</td></tr><tr><td>45</td><td>100</td><td>120</td><td>100.7</td></tr><tr><td>60</td><td>119</td><td>169</td><td>336.7</td></tr><tr><td>60</td><td>107</td><td>127</td><td>344.9</td></tr><tr><td>60</td><td>111</td><td>151</td><td>368.5</td></tr><tr><td>60</td><td>98</td><td>122</td><td>271.0</td></tr><tr><td>60</td><td>97</td><td>124</td><td>275.3</td></tr><tr><td>60</td><td>109</td><td>127</td><td>382.0</td></tr><tr><td>90</td><td>99</td><td>125</td><td>466.4</td></tr><tr><td>60</td><td>114</td><td>151</td><td>384.0</td></tr><tr><td>60</td><td>104</td><td>134</td><td>342.5</td></tr><tr><td>60</td><td>107</td><td>138</td><td>357.5</td></tr><tr><td>60</td><td>103</td><td>133</td><td>335.0</td></tr><tr><td>60</td><td>106</td><td>132</td><td>327.5</td></tr><tr><td>60</td><td>103</td><td>136</td><td>339.0</td></tr><tr><td>20</td><td>136</td><td>156</td><td>189.0</td></tr><tr><td>45</td><td>117</td><td>143</td><td>317.7</td></tr><tr><td>45</td><td>115</td><td>137</td><td>318.0</td></tr><tr><td>45</td><td>113</td><td>138</td><td>308.0</td></tr><tr><td>20</td><td>141</td><td>162</td><td>222.4</td></tr><tr><td>60</td><td>108</td><td>135</td><td>390.0</td></tr><tr><td>60</td><td>97</td><td>127</td><td>null</td></tr><tr><td>45</td><td>100</td><td>120</td><td>250.4</td></tr><tr><td>45</td><td>122</td><td>149</td><td>335.4</td></tr><tr><td>60</td><td>136</td><td>170</td><td>470.2</td></tr><tr><td>45</td><td>106</td><td>126</td><td>270.8</td></tr><tr><td>60</td><td>107</td><td>136</td><td>400.0</td></tr><tr><td>60</td><td>112</td><td>146</td><td>361.9</td></tr><tr><td>30</td><td>103</td><td>127</td><td>185.0</td></tr><tr><td>60</td><td>110</td><td>150</td><td>409.4</td></tr><tr><td>60</td><td>106</td><td>134</td><td>343.0</td></tr><tr><td>60</td><td>109</td><td>129</td><td>353.2</td></tr><tr><td>60</td><td>109</td><td>138</td><td>374.0</td></tr><tr><td>30</td><td>150</td><td>167</td><td>275.8</td></tr><tr><td>60</td><td>105</td><td>128</td><td>328.0</td></tr><tr><td>60</td><td>111</td><td>151</td><td>368.5</td></tr><tr><td>60</td><td>97</td><td>131</td><td>270.4</td></tr><tr><td>60</td><td>100</td><td>120</td><td>270.4</td></tr><tr><td>60</td><td>114</td><td>150</td><td>382.8</td></tr><tr><td>30</td><td>80</td><td>120</td><td>240.9</td></tr><tr><td>30</td><td>85</td><td>120</td><td>250.4</td></tr><tr><td>45</td><td>90</td><td>130</td><td>260.4</td></tr><tr><td>45</td><td>95</td><td>130</td><td>270.0</td></tr><tr><td>45</td><td>100</td><td>140</td><td>280.9</td></tr><tr><td>60</td><td>105</td><td>140</td><td>290.8</td></tr><tr><td>60</td><td>110</td><td>145</td><td>300.4</td></tr><tr><td>60</td><td>115</td><td>145</td><td>310.2</td></tr><tr><td>75</td><td>120</td><td>150</td><td>320.4</td></tr><tr><td>75</td><td>125</td><td>150</td><td>330.4</td></tr></tbody></table></div>"
      ]
     },
     "metadata": {
      "application/vnd.databricks.v1+output": {
       "addedWidgets": {},
       "aggData": [],
       "aggError": "",
       "aggOverflow": false,
       "aggSchema": [],
       "aggSeriesLimitReached": false,
       "aggType": "",
       "arguments": {},
       "columnCustomDisplayInfos": {},
       "data": [
        [
         "60",
         "110",
         "130",
         "409.1"
        ],
        [
         "60",
         "117",
         "145",
         "479.0"
        ],
        [
         "60",
         "103",
         "135",
         "340.0"
        ],
        [
         "45",
         "109",
         "175",
         "282.4"
        ],
        [
         "45",
         "117",
         "148",
         "406.0"
        ],
        [
         "60",
         "102",
         "127",
         "300.5"
        ],
        [
         "60",
         "110",
         "136",
         "374.0"
        ],
        [
         "45",
         "104",
         "134",
         "253.3"
        ],
        [
         "30",
         "109",
         "133",
         "195.1"
        ],
        [
         "60",
         "98",
         "124",
         "269.0"
        ],
        [
         "60",
         "103",
         "147",
         "329.3"
        ],
        [
         "60",
         "100",
         "120",
         "250.7"
        ],
        [
         "60",
         "106",
         "128",
         "345.3"
        ],
        [
         "60",
         "104",
         "132",
         "379.3"
        ],
        [
         "60",
         "98",
         "123",
         "275.0"
        ],
        [
         "60",
         "98",
         "120",
         "215.2"
        ],
        [
         "60",
         "100",
         "120",
         "300.0"
        ],
        [
         "45",
         "90",
         "112",
         null
        ],
        [
         "60",
         "103",
         "123",
         "323.0"
        ],
        [
         "45",
         "97",
         "125",
         "243.0"
        ],
        [
         "60",
         "108",
         "131",
         "364.2"
        ],
        [
         "45",
         "100",
         "119",
         "282.0"
        ],
        [
         "60",
         "130",
         "101",
         "300.0"
        ],
        [
         "45",
         "105",
         "132",
         "246.0"
        ],
        [
         "60",
         "102",
         "126",
         "334.5"
        ],
        [
         "60",
         "100",
         "120",
         "250.0"
        ],
        [
         "60",
         "92",
         "118",
         "241.0"
        ],
        [
         "60",
         "103",
         "132",
         null
        ],
        [
         "60",
         "100",
         "132",
         "280.0"
        ],
        [
         "60",
         "102",
         "129",
         "380.3"
        ],
        [
         "60",
         "92",
         "115",
         "243.0"
        ],
        [
         "45",
         "90",
         "112",
         "180.1"
        ],
        [
         "60",
         "101",
         "124",
         "299.0"
        ],
        [
         "60",
         "93",
         "113",
         "223.0"
        ],
        [
         "60",
         "107",
         "136",
         "361.0"
        ],
        [
         "60",
         "114",
         "140",
         "415.0"
        ],
        [
         "60",
         "102",
         "127",
         "300.5"
        ],
        [
         "60",
         "100",
         "120",
         "300.1"
        ],
        [
         "60",
         "100",
         "120",
         "300.0"
        ],
        [
         "45",
         "104",
         "129",
         "266.0"
        ],
        [
         "45",
         "90",
         "112",
         "180.1"
        ],
        [
         "60",
         "98",
         "126",
         "286.0"
        ],
        [
         "60",
         "100",
         "122",
         "329.4"
        ],
        [
         "60",
         "111",
         "138",
         "400.0"
        ],
        [
         "60",
         "111",
         "131",
         "397.0"
        ],
        [
         "60",
         "99",
         "119",
         "273.0"
        ],
        [
         "60",
         "109",
         "153",
         "387.6"
        ],
        [
         "45",
         "111",
         "136",
         "300.0"
        ],
        [
         "45",
         "108",
         "129",
         "298.0"
        ],
        [
         "60",
         "111",
         "139",
         "397.6"
        ],
        [
         "60",
         "107",
         "136",
         "380.2"
        ],
        [
         "80",
         "123",
         "146",
         "643.1"
        ],
        [
         "60",
         "106",
         "130",
         "263.0"
        ],
        [
         "60",
         "118",
         "151",
         "486.0"
        ],
        [
         "30",
         "136",
         "175",
         "238.0"
        ],
        [
         "60",
         "121",
         "146",
         "450.7"
        ],
        [
         "60",
         "118",
         "121",
         "413.0"
        ],
        [
         "45",
         "115",
         "144",
         "305.0"
        ],
        [
         "20",
         "153",
         "172",
         "226.4"
        ],
        [
         "45",
         "123",
         "152",
         "321.0"
        ],
        [
         "210",
         "108",
         "160",
         "1376.0"
        ],
        [
         "160",
         "110",
         "137",
         "1034.4"
        ],
        [
         "160",
         "109",
         "135",
         "853.0"
        ],
        [
         "45",
         "118",
         "141",
         "341.0"
        ],
        [
         "20",
         "110",
         "130",
         "131.4"
        ],
        [
         "180",
         "90",
         "130",
         "800.4"
        ],
        [
         "150",
         "105",
         "135",
         "873.4"
        ],
        [
         "150",
         "107",
         "130",
         "816.0"
        ],
        [
         "20",
         "106",
         "136",
         "110.4"
        ],
        [
         "300",
         "108",
         "143",
         "1500.2"
        ],
        [
         "150",
         "97",
         "129",
         "1115.0"
        ],
        [
         "60",
         "109",
         "153",
         "387.6"
        ],
        [
         "90",
         "100",
         "127",
         "700.0"
        ],
        [
         "150",
         "97",
         "127",
         "953.2"
        ],
        [
         "45",
         "114",
         "146",
         "304.0"
        ],
        [
         "90",
         "98",
         "125",
         "563.2"
        ],
        [
         "45",
         "105",
         "134",
         "251.0"
        ],
        [
         "45",
         "110",
         "141",
         "300.0"
        ],
        [
         "120",
         "100",
         "130",
         "500.4"
        ],
        [
         "270",
         "100",
         "131",
         "1729.0"
        ],
        [
         "30",
         "159",
         "182",
         "319.2"
        ],
        [
         "45",
         "149",
         "169",
         "344.0"
        ],
        [
         "30",
         "103",
         "139",
         "151.1"
        ],
        [
         "120",
         "100",
         "130",
         "500.0"
        ],
        [
         "45",
         "100",
         "120",
         "225.3"
        ],
        [
         "30",
         "151",
         "170",
         "300.1"
        ],
        [
         "45",
         "102",
         "136",
         "234.0"
        ],
        [
         "120",
         "100",
         "157",
         "1000.1"
        ],
        [
         "45",
         "129",
         "103",
         "242.0"
        ],
        [
         "20",
         "83",
         "107",
         "50.3"
        ],
        [
         "180",
         "101",
         "127",
         "600.1"
        ],
        [
         "45",
         "107",
         "137",
         null
        ],
        [
         "30",
         "90",
         "107",
         "105.3"
        ],
        [
         "15",
         "80",
         "100",
         "50.5"
        ],
        [
         "20",
         "150",
         "171",
         "127.4"
        ],
        [
         "20",
         "151",
         "168",
         "229.4"
        ],
        [
         "30",
         "95",
         "128",
         "128.2"
        ],
        [
         "25",
         "152",
         "168",
         "244.2"
        ],
        [
         "30",
         "109",
         "131",
         "188.2"
        ],
        [
         "90",
         "93",
         "124",
         "604.1"
        ],
        [
         "20",
         "95",
         "112",
         "77.7"
        ],
        [
         "90",
         "90",
         "110",
         "500.0"
        ],
        [
         "90",
         "90",
         "100",
         "500.0"
        ],
        [
         "90",
         "90",
         "100",
         "500.4"
        ],
        [
         "30",
         "92",
         "108",
         "92.7"
        ],
        [
         "30",
         "93",
         "128",
         "124.0"
        ],
        [
         "180",
         "90",
         "120",
         "800.3"
        ],
        [
         "30",
         "90",
         "120",
         "86.2"
        ],
        [
         "90",
         "90",
         "120",
         "500.3"
        ],
        [
         "210",
         "137",
         "184",
         "1860.4"
        ],
        [
         "60",
         "102",
         "124",
         "325.2"
        ],
        [
         "45",
         "107",
         "124",
         "275.0"
        ],
        [
         "15",
         "124",
         "139",
         "124.2"
        ],
        [
         "45",
         "100",
         "120",
         "225.3"
        ],
        [
         "60",
         "108",
         "131",
         "367.6"
        ],
        [
         "60",
         "108",
         "151",
         "351.7"
        ],
        [
         "60",
         "116",
         "141",
         "443.0"
        ],
        [
         "60",
         "97",
         "122",
         "277.4"
        ],
        [
         "60",
         "105",
         "125",
         null
        ],
        [
         "60",
         "103",
         "124",
         "332.7"
        ],
        [
         "30",
         "112",
         "137",
         "193.9"
        ],
        [
         "45",
         "100",
         "120",
         "100.7"
        ],
        [
         "60",
         "119",
         "169",
         "336.7"
        ],
        [
         "60",
         "107",
         "127",
         "344.9"
        ],
        [
         "60",
         "111",
         "151",
         "368.5"
        ],
        [
         "60",
         "98",
         "122",
         "271.0"
        ],
        [
         "60",
         "97",
         "124",
         "275.3"
        ],
        [
         "60",
         "109",
         "127",
         "382.0"
        ],
        [
         "90",
         "99",
         "125",
         "466.4"
        ],
        [
         "60",
         "114",
         "151",
         "384.0"
        ],
        [
         "60",
         "104",
         "134",
         "342.5"
        ],
        [
         "60",
         "107",
         "138",
         "357.5"
        ],
        [
         "60",
         "103",
         "133",
         "335.0"
        ],
        [
         "60",
         "106",
         "132",
         "327.5"
        ],
        [
         "60",
         "103",
         "136",
         "339.0"
        ],
        [
         "20",
         "136",
         "156",
         "189.0"
        ],
        [
         "45",
         "117",
         "143",
         "317.7"
        ],
        [
         "45",
         "115",
         "137",
         "318.0"
        ],
        [
         "45",
         "113",
         "138",
         "308.0"
        ],
        [
         "20",
         "141",
         "162",
         "222.4"
        ],
        [
         "60",
         "108",
         "135",
         "390.0"
        ],
        [
         "60",
         "97",
         "127",
         null
        ],
        [
         "45",
         "100",
         "120",
         "250.4"
        ],
        [
         "45",
         "122",
         "149",
         "335.4"
        ],
        [
         "60",
         "136",
         "170",
         "470.2"
        ],
        [
         "45",
         "106",
         "126",
         "270.8"
        ],
        [
         "60",
         "107",
         "136",
         "400.0"
        ],
        [
         "60",
         "112",
         "146",
         "361.9"
        ],
        [
         "30",
         "103",
         "127",
         "185.0"
        ],
        [
         "60",
         "110",
         "150",
         "409.4"
        ],
        [
         "60",
         "106",
         "134",
         "343.0"
        ],
        [
         "60",
         "109",
         "129",
         "353.2"
        ],
        [
         "60",
         "109",
         "138",
         "374.0"
        ],
        [
         "30",
         "150",
         "167",
         "275.8"
        ],
        [
         "60",
         "105",
         "128",
         "328.0"
        ],
        [
         "60",
         "111",
         "151",
         "368.5"
        ],
        [
         "60",
         "97",
         "131",
         "270.4"
        ],
        [
         "60",
         "100",
         "120",
         "270.4"
        ],
        [
         "60",
         "114",
         "150",
         "382.8"
        ],
        [
         "30",
         "80",
         "120",
         "240.9"
        ],
        [
         "30",
         "85",
         "120",
         "250.4"
        ],
        [
         "45",
         "90",
         "130",
         "260.4"
        ],
        [
         "45",
         "95",
         "130",
         "270.0"
        ],
        [
         "45",
         "100",
         "140",
         "280.9"
        ],
        [
         "60",
         "105",
         "140",
         "290.8"
        ],
        [
         "60",
         "110",
         "145",
         "300.4"
        ],
        [
         "60",
         "115",
         "145",
         "310.2"
        ],
        [
         "75",
         "120",
         "150",
         "320.4"
        ],
        [
         "75",
         "125",
         "150",
         "330.4"
        ]
       ],
       "datasetInfos": [],
       "dbfsResultPath": null,
       "isJsonSchema": true,
       "metadata": {},
       "overflow": false,
       "plotOptions": {
        "customPlotOptions": {},
        "displayType": "table",
        "pivotAggregation": null,
        "pivotColumns": null,
        "xColumns": null,
        "yColumns": null
       },
       "removedWidgets": [],
       "schema": [
        {
         "metadata": "{}",
         "name": "Duration",
         "type": "\"string\""
        },
        {
         "metadata": "{}",
         "name": "Pulse",
         "type": "\"string\""
        },
        {
         "metadata": "{}",
         "name": "Maxpulse",
         "type": "\"string\""
        },
        {
         "metadata": "{}",
         "name": "Calories",
         "type": "\"string\""
        }
       ],
       "type": "table"
      }
     },
     "output_type": "display_data"
    }
   ],
   "source": [
    "%sql\n",
    "select * from health_record"
   ]
  }
 ],
 "metadata": {
  "application/vnd.databricks.v1+notebook": {
   "dashboards": [],
   "language": "python",
   "notebookMetadata": {
    "mostRecentlyExecutedCommandWithImplicitDF": {
     "commandId": 210218866596480,
     "dataframes": [
      "_sqldf"
     ]
    },
    "pythonIndentUnit": 4
   },
   "notebookName": "PySpark Demo-01",
   "widgets": {}
  }
 },
 "nbformat": 4,
 "nbformat_minor": 0
}
